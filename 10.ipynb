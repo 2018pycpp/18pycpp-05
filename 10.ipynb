{
 "cells": [
  {
   "cell_type": "markdown",
   "metadata": {},
   "source": [
    "# Cython"
   ]
  },
  {
   "cell_type": "markdown",
   "metadata": {},
   "source": [
    "* Cython is one of python's *dialects* to bridge between C and python."
   ]
  },
  {
   "cell_type": "markdown",
   "metadata": {},
   "source": [
    "* Following code block is an [example](https://stackoverflow.com/questions/35656604/running-cython-in-jupyter-ipython) of the `cython` code."
   ]
  },
  {
   "cell_type": "code",
   "execution_count": null,
   "metadata": {},
   "outputs": [],
   "source": [
    "%load_ext Cython\n",
    "\n"
   ]
  },
  {
   "cell_type": "code",
   "execution_count": null,
   "metadata": {},
   "outputs": [],
   "source": [
    "%%cython -a\n",
    "\n",
    "def geo_prog_cython(double alpha, int n):\n",
    "    cdef double current = 1.0\n",
    "    cdef double sum = current\n",
    "    cdef int i\n",
    "    for i in range(n):\n",
    "        current = current * alpha\n",
    "        sum = sum + current\n",
    "    return sum\n",
    "\n"
   ]
  },
  {
   "cell_type": "code",
   "execution_count": null,
   "metadata": {},
   "outputs": [],
   "source": [
    "%%time\n",
    "\n",
    "geo_prog_cython(0.5, 5)\n",
    "\n"
   ]
  },
  {
   "cell_type": "code",
   "execution_count": null,
   "metadata": {},
   "outputs": [],
   "source": [
    "def geo_prog_python(alpha, n):\n",
    "    current = 1.0\n",
    "    sum = current\n",
    "    \n",
    "    for i in range(n):\n",
    "        current = current * alpha\n",
    "        sum = sum + current\n",
    "    return sum\n",
    "\n"
   ]
  },
  {
   "cell_type": "code",
   "execution_count": null,
   "metadata": {},
   "outputs": [],
   "source": [
    "%%time\n",
    "\n",
    "geo_prog_python(0.5, 5)\n",
    "\n"
   ]
  },
  {
   "cell_type": "markdown",
   "metadata": {},
   "source": [
    "## Visualizing"
   ]
  },
  {
   "cell_type": "markdown",
   "metadata": {},
   "source": [
    "* `matplotlib` can visualize results from `cython` functions."
   ]
  },
  {
   "cell_type": "code",
   "execution_count": null,
   "metadata": {},
   "outputs": [],
   "source": [
    "%load_ext Cython\n",
    "\n"
   ]
  },
  {
   "cell_type": "code",
   "execution_count": null,
   "metadata": {},
   "outputs": [],
   "source": [
    "%%cython --annotate\n",
    "\n",
    "def diff_eq(xi):\n",
    "\n",
    "    # dx/dt + x = 0\n",
    "    return -xi\n",
    "\n",
    "\n",
    "def euler_cython():\n",
    "\n",
    "    # initial values\n",
    "    cdef double ti = 0.0\n",
    "    cdef double te = 10.0\n",
    "    cdef double delta_t = 1e-3\n",
    "    cdef double x0 = 1.0\n",
    "    \n",
    "    cdef double t = ti\n",
    "    \n",
    "    cdef int n = int((te - ti) / delta_t) + 1\n",
    "    cdef int i = 0\n",
    "    \n",
    "    # https://stackoverflow.com/questions/25974975/cython-c-array-initialization\n",
    "    cdef double result_t[10001]\n",
    "    result_t = [0.0] * 10001\n",
    "    cdef double result_x[10001]\n",
    "    result_x = [0.0] * 10001\n",
    "    \n",
    "    cdef double dx_dt = 0\n",
    "    \n",
    "    result_t[0] = ti\n",
    "    result_x[0] = x0\n",
    "    \n",
    "    for i in range(1, n):\n",
    "        dx_dt = diff_eq(result_x[i-1])\n",
    "        result_x[i] = result_x[i-1] + dx_dt * delta_t\n",
    "        result_t[i] = result_t[i-1] + delta_t\n",
    "\n",
    "    return result_t, result_x\n",
    "\n"
   ]
  },
  {
   "cell_type": "code",
   "execution_count": null,
   "metadata": {},
   "outputs": [],
   "source": [
    "def diff_eq_python(xi):\n",
    "\n",
    "    # dx/dt + x = 0\n",
    "    return -xi\n",
    "\n",
    "\n",
    "def euler_python():\n",
    "\n",
    "    # initial values\n",
    "    ti = 0.0\n",
    "    te = 10.0\n",
    "    delta_t = 1e-3\n",
    "    x0 = 1.0\n",
    "    \n",
    "    t = ti\n",
    "    \n",
    "    n = int((te - ti) / delta_t) + 1\n",
    "    i = 0\n",
    "    \n",
    "    result_t = [0.0] * 10001\n",
    "    result_x = [0.0] * 10001\n",
    "    \n",
    "    result_t[0] = ti\n",
    "    result_x[0] = x0\n",
    "    \n",
    "    dx_dt = 0\n",
    "    \n",
    "    for i in range(1, n):\n",
    "        dx_dt = diff_eq_python(result_x[i-1])\n",
    "        result_x[i] = result_x[i-1] + dx_dt * delta_t\n",
    "        result_t[i] = result_t[i-1] + delta_t\n",
    "\n",
    "    return result_t, result_x\n",
    "\n"
   ]
  },
  {
   "cell_type": "code",
   "execution_count": null,
   "metadata": {},
   "outputs": [],
   "source": [
    "%%time\n",
    "# measure time to calculate\n",
    "\n",
    "t, x = euler_cython()\n",
    "\n"
   ]
  },
  {
   "cell_type": "code",
   "execution_count": null,
   "metadata": {},
   "outputs": [],
   "source": [
    "%%time\n",
    "# measure time to calculate\n",
    "\n",
    "t_py, x_py = euler_python()\n",
    "\n"
   ]
  },
  {
   "cell_type": "code",
   "execution_count": null,
   "metadata": {},
   "outputs": [],
   "source": [
    "import pylab as py\n",
    "\n",
    "\n",
    "py.plot(t, x, 'o', label='cython')\n",
    "py.plot(t_py, x_py, '-', label='python')\n",
    "py.grid(True)\n",
    "py.xlabel('t')\n",
    "py.ylabel('y')\n",
    "py.legend(loc=0)\n",
    "py.show()\n",
    "\n"
   ]
  },
  {
   "cell_type": "markdown",
   "metadata": {},
   "source": [
    "## Calling C/C++ functions"
   ]
  },
  {
   "cell_type": "markdown",
   "metadata": {},
   "source": [
    "* Cython can call C/C++ functions as follows.\n",
    "[[ref0](https://cython.readthedocs.io/en/latest/src/userguide/external_C_code.html)]\n",
    ", [[ref1](https://stackoverflow.com/questions/37426534/how-can-i-import-an-external-c-function-into-an-ipython-notebook-using-cython)]\n",
    ", [[ref2](https://stackoverflow.com/questions/19260253/cython-compiling-error-multiple-definition-of-functions)]\n",
    ", [[ref3](https://media.readthedocs.org/pdf/cython/stable/cython.pdf)]\n",
    ", [[ref4](http://www.scipy-lectures.org/advanced/interfacing_with_c/interfacing_with_c.html)]\n",
    " \n",
    " "
   ]
  },
  {
   "cell_type": "markdown",
   "metadata": {},
   "source": [
    "### With `numpy` support"
   ]
  },
  {
   "cell_type": "markdown",
   "metadata": {},
   "source": [
    "* If we need to use matrices and vectors frequently, combining `numpy` and cython may be helpful."
   ]
  },
  {
   "cell_type": "markdown",
   "metadata": {},
   "source": [
    "* Following is file `cos_cython_numpy.h`."
   ]
  },
  {
   "cell_type": "code",
   "execution_count": null,
   "metadata": {},
   "outputs": [],
   "source": [
    "%%writefile cos_cython_numpy.h\n",
    "/*\n",
    "    2.8.5.2. Numpy Support, 2.8.5. Cython, http://www.scipy-lectures.org/advanced/interfacing_with_c/interfacing_with_c.html#id13\n",
    "*/\n",
    "void cos_cython_numpy_func(double * in_array, double * out_array, int size);\n",
    "\n"
   ]
  },
  {
   "cell_type": "markdown",
   "metadata": {},
   "source": [
    "* Following is file `cos_cython_numpy.c`."
   ]
  },
  {
   "cell_type": "code",
   "execution_count": null,
   "metadata": {},
   "outputs": [],
   "source": [
    "%%writefile cos_cython_numpy.c\n",
    "/*\n",
    "2.8.5.2. Numpy Support, 2.8.5. Cython, http://www.scipy-lectures.org/advanced/interfacing_with_c/interfacing_with_c.html#id13\n",
    "*/\n",
    "\n",
    "#include <math.h>\n",
    "\n",
    "/*  Compute the cosine of each element in in_array, storing the result in\n",
    " *  out_array. */\n",
    "void cos_cython_numpy_func(double * in_array, double * out_array, int size){\n",
    "    int i;\n",
    "    for(i=0;i<size;i++){\n",
    "        out_array[i] = cos(in_array[i]);\n",
    "    }\n",
    "}\n",
    "\n"
   ]
  },
  {
   "cell_type": "markdown",
   "metadata": {},
   "source": [
    "* Following is file `_cos_cython_numpy.pyx`."
   ]
  },
  {
   "cell_type": "code",
   "execution_count": null,
   "metadata": {},
   "outputs": [],
   "source": [
    "%%writefile _cos_cython_numpy.pyx\n",
    "\"\"\" Example of wrapping a C function that takes C double arrays as input using\n",
    "    the Numpy declarations from Cython \n",
    "    Valentin Haenel, 2.8.5.2. Numpy Support, 2.8.5. Cython, Scipy Lectures, Oct 18 2016, [Online] \n",
    "        Available: http://www.scipy-lectures.org/advanced/interfacing_with_c/interfacing_with_c.html#id13 \n",
    "\"\"\"\n",
    "\n",
    "\"\"\" Example of wrapping a C function that takes C double arrays as input using\n",
    "    the Numpy declarations from Cython \"\"\"\n",
    "\n",
    "# cimport the Cython declarations for numpy\n",
    "cimport numpy as np\n",
    "\n",
    "# if you want to use the Numpy-C-API from Cython\n",
    "# (not strictly necessary for this example, but good practice)\n",
    "np.import_array()\n",
    "\n",
    "# cdefine the signature of our c function\n",
    "cdef extern from \"cos_cython_numpy.h\":\n",
    "    void cos_cython_numpy_func (double * in_array, double * out_array, int size)\n",
    "\n",
    "# create the wrapper code, with numpy type annotations\n",
    "def cos_cython_numpy_py_func(np.ndarray[double, ndim=1, mode=\"c\"] in_array not None,\n",
    "                     np.ndarray[double, ndim=1, mode=\"c\"] out_array not None):\n",
    "    cos_cython_numpy_func(<double*> np.PyArray_DATA(in_array),\n",
    "                <double*> np.PyArray_DATA(out_array),\n",
    "                in_array.shape[0])\n",
    "\n"
   ]
  },
  {
   "cell_type": "markdown",
   "metadata": {},
   "source": [
    "* Following is file `setup.py`."
   ]
  },
  {
   "cell_type": "code",
   "execution_count": null,
   "metadata": {},
   "outputs": [],
   "source": [
    "%%writefile setup.py\n",
    "\n",
    "# Valentin Haenel, 2.8. Interfacing with C,  Scipy Lectures, Oct 18 2016, [Online]\n",
    "#   Available: http://www.scipy-lectures.org/advanced/interfacing_with_c/interfacing_with_c.html\n",
    "\n",
    "from distutils.core import setup, Extension\n",
    "\n",
    "import numpy\n",
    "from Cython.Distutils import build_ext\n",
    "\n",
    "print('for NumPy Support of Cython '.ljust(60, '#'))\n",
    "setup(cmdclass={'build_ext': build_ext},\n",
    "      ext_modules=[Extension(\"cos_cython_numpy\",\n",
    "                             sources=['_cos_cython_numpy.pyx', \"cos_cython_numpy.c\"],\n",
    "                             include_dirs=[numpy.get_include()])],\n",
    "      )\n",
    "\n"
   ]
  },
  {
   "cell_type": "code",
   "execution_count": null,
   "metadata": {
    "scrolled": true
   },
   "outputs": [],
   "source": [
    "%%bash\n",
    "python setup.py build_ext --inplace\n",
    "\n"
   ]
  },
  {
   "cell_type": "code",
   "execution_count": null,
   "metadata": {
    "scrolled": true
   },
   "outputs": [],
   "source": [
    "import pylab as py\n",
    "import cos_cython_numpy\n",
    "\n",
    "x = py.arange(0, 2 * py.pi, 0.1)\n",
    "y = py.empty_like(x)\n",
    "\n",
    "cos_cython_numpy.cos_cython_numpy_py_func(x, y)\n",
    "py.plot(x, y)\n",
    "py.show()\n",
    "\n"
   ]
  },
  {
   "cell_type": "code",
   "execution_count": null,
   "metadata": {},
   "outputs": [],
   "source": [
    "%%bash\n",
    "rm cos_cython_numpy.h\n",
    "rm cos_cython_numpy.c\n",
    "rm _cos_cython_numpy.c\n",
    "rm _cos_cython_numpy.pyx\n",
    "rm setup.py\n",
    "\n"
   ]
  },
  {
   "cell_type": "code",
   "execution_count": null,
   "metadata": {},
   "outputs": [],
   "source": [
    "assert (y == py.cos(x)).all(), \"Cython Result != Pylab Expected\"\n",
    "\n"
   ]
  },
  {
   "cell_type": "code",
   "execution_count": null,
   "metadata": {},
   "outputs": [],
   "source": []
  }
 ],
 "metadata": {
  "kernelspec": {
   "display_name": "Python 3",
   "language": "python",
   "name": "python3"
  },
  "language_info": {
   "codemirror_mode": {
    "name": "ipython",
    "version": 3
   },
   "file_extension": ".py",
   "mimetype": "text/x-python",
   "name": "python",
   "nbconvert_exporter": "python",
   "pygments_lexer": "ipython3",
   "version": "3.6.5"
  }
 },
 "nbformat": 4,
 "nbformat_minor": 2
}
