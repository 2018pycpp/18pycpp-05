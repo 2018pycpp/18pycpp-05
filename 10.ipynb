{
 "cells": [
  {
   "cell_type": "markdown",
   "metadata": {},
   "source": [
    "# Cython"
   ]
  },
  {
   "cell_type": "markdown",
   "metadata": {},
   "source": [
    "* Cython is one of python's *dialects* to bridge between C and python."
   ]
  },
  {
   "cell_type": "markdown",
   "metadata": {},
   "source": [
    "* Following code block is an [example](https://stackoverflow.com/questions/35656604/running-cython-in-jupyter-ipython) of the `cython` code."
   ]
  },
  {
   "cell_type": "code",
   "execution_count": null,
   "metadata": {},
   "outputs": [],
   "source": [
    "%load_ext Cython\n",
    "\n"
   ]
  },
  {
   "cell_type": "code",
   "execution_count": null,
   "metadata": {},
   "outputs": [],
   "source": [
    "%%cython -a\n",
    "\n",
    "def geo_prog_cython(double alpha, int n):\n",
    "    cdef double current = 1.0\n",
    "    cdef double sum = current\n",
    "    cdef int i\n",
    "    for i in range(n):\n",
    "        current = current * alpha\n",
    "        sum = sum + current\n",
    "    return sum\n",
    "\n"
   ]
  },
  {
   "cell_type": "code",
   "execution_count": null,
   "metadata": {},
   "outputs": [],
   "source": [
    "%%time\n",
    "\n",
    "geo_prog_cython(0.5, 5)\n",
    "\n"
   ]
  },
  {
   "cell_type": "code",
   "execution_count": null,
   "metadata": {},
   "outputs": [],
   "source": [
    "def geo_prog_python(alpha, n):\n",
    "    current = 1.0\n",
    "    sum = current\n",
    "    \n",
    "    for i in range(n):\n",
    "        current = current * alpha\n",
    "        sum = sum + current\n",
    "    return sum\n",
    "\n"
   ]
  },
  {
   "cell_type": "code",
   "execution_count": null,
   "metadata": {},
   "outputs": [],
   "source": [
    "%%time\n",
    "\n",
    "geo_prog_python(0.5, 5)\n",
    "\n"
   ]
  },
  {
   "cell_type": "markdown",
   "metadata": {},
   "source": [
    "## Visualizing"
   ]
  },
  {
   "cell_type": "code",
   "execution_count": null,
   "metadata": {},
   "outputs": [],
   "source": [
    "%load_ext Cython\n",
    "\n"
   ]
  },
  {
   "cell_type": "code",
   "execution_count": null,
   "metadata": {},
   "outputs": [],
   "source": [
    "%%cython -a\n",
    "\n",
    "import pylab as py\n",
    "\n",
    "\n",
    "def diff_eq(xi):\n",
    "\n",
    "    # dx/dt + x = 0\n",
    "    return -xi\n",
    "\n",
    "\n",
    "def euler_cython():\n",
    "\n",
    "    # initial values\n",
    "    cdef double ti = 0.0\n",
    "    cdef double te = 10.0\n",
    "    cdef double delta_t = 1e-3\n",
    "    cdef double x0 = 1.0\n",
    "    \n",
    "    cdef double t = ti\n",
    "    \n",
    "    cdef int n = int((te - ti) / delta_t) + 1\n",
    "    cdef int i = 0\n",
    "    \n",
    "    # https://stackoverflow.com/questions/25974975/cython-c-array-initialization\n",
    "    cdef double result_t[10001]\n",
    "    result_t = [0.0] * 10001\n",
    "    cdef double result_x[10001]\n",
    "    result_x = [0.0] * 10001\n",
    "    \n",
    "    cdef double dx_dt = 0\n",
    "    \n",
    "    result_t[0] = ti\n",
    "    result_x[0] = x0\n",
    "    \n",
    "    for i in range(1, n):\n",
    "        dx_dt = diff_eq(result_x[i-1])\n",
    "        result_x[i] = result_x[i-1] + dx_dt * delta_t\n",
    "        result_t[i] = result_t[i-1] + delta_t\n",
    "\n",
    "    return result_t, result_x\n",
    "\n"
   ]
  },
  {
   "cell_type": "code",
   "execution_count": null,
   "metadata": {},
   "outputs": [],
   "source": [
    "def euler_python():\n",
    "\n",
    "    # initial values\n",
    "    ti = 0.0\n",
    "    te = 10.0\n",
    "    delta_t = 1e-3\n",
    "    x0 = 1.0\n",
    "    \n",
    "    t = ti\n",
    "    \n",
    "    n = int((te - ti) / delta_t) + 1\n",
    "    i = 0\n",
    "    \n",
    "    result_t = [0.0] * 10001\n",
    "    result_x = [0.0] * 10001\n",
    "    \n",
    "    result_t[0] = ti\n",
    "    result_x[0] = x0\n",
    "    \n",
    "    dx_dt = 0\n",
    "    \n",
    "    for i in range(1, n):\n",
    "        dx_dt = diff_eq(result_x[i-1])\n",
    "        result_x[i] = result_x[i-1] + dx_dt * delta_t\n",
    "        result_t[i] = result_t[i-1] + delta_t\n",
    "\n",
    "    return result_t, result_x\n",
    "\n"
   ]
  },
  {
   "cell_type": "code",
   "execution_count": null,
   "metadata": {},
   "outputs": [],
   "source": [
    "%%time\n",
    "# measure time to calculate\n",
    "\n",
    "t, x = euler_cython()\n",
    "\n"
   ]
  },
  {
   "cell_type": "code",
   "execution_count": null,
   "metadata": {},
   "outputs": [],
   "source": [
    "%%time\n",
    "# measure time to calculate\n",
    "\n",
    "t_py, x_py = euler_python()\n",
    "\n"
   ]
  },
  {
   "cell_type": "code",
   "execution_count": null,
   "metadata": {},
   "outputs": [],
   "source": [
    "py.plot(t, x, label='cython')\n",
    "py.plot(t_py, x_py, label='python')\n",
    "py.grid(True)\n",
    "py.xlabel('t')\n",
    "py.ylabel('y')\n",
    "py.legend(loc=0)\n",
    "py.show()\n",
    "\n"
   ]
  },
  {
   "cell_type": "code",
   "execution_count": null,
   "metadata": {},
   "outputs": [],
   "source": []
  }
 ],
 "metadata": {
  "kernelspec": {
   "display_name": "Python 3",
   "language": "python",
   "name": "python3"
  },
  "language_info": {
   "codemirror_mode": {
    "name": "ipython",
    "version": 3
   },
   "file_extension": ".py",
   "mimetype": "text/x-python",
   "name": "python",
   "nbconvert_exporter": "python",
   "pygments_lexer": "ipython3",
   "version": "3.6.5"
  }
 },
 "nbformat": 4,
 "nbformat_minor": 2
}
