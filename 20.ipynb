{
 "cells": [
  {
   "cell_type": "markdown",
   "metadata": {},
   "source": [
    "# Programming in lower level"
   ]
  },
  {
   "cell_type": "markdown",
   "metadata": {},
   "source": [
    "* Sometimes a control engineer may want to make computers to give commands to or read measurements from machines.\n",
    "\n"
   ]
  },
  {
   "cell_type": "markdown",
   "metadata": {},
   "source": [
    "* Understanding how computers work *under the hood* would be helpful in such situations.\n",
    "\n"
   ]
  },
  {
   "cell_type": "markdown",
   "metadata": {},
   "source": [
    "## Chinese Room"
   ]
  },
  {
   "cell_type": "markdown",
   "metadata": {},
   "source": [
    "* Prof. John Searle of UC Berkeley published in 1980."
   ]
  },
  {
   "cell_type": "markdown",
   "metadata": {},
   "source": [
    "[![Chinese Room](https://cdn-images-1.medium.com/max/1600/1*ve1L0BoTEEChNZMwn7_zig.jpeg)](https://medium.com/@transphilosophr/searles-chinese-room-thought-experiment-a-twist-c7eb28f65e6c)"
   ]
  },
  {
   "cell_type": "markdown",
   "metadata": {},
   "source": [
    "* Assume a person inside of a closed room with a slots for questions and answers."
   ]
  },
  {
   "cell_type": "markdown",
   "metadata": {},
   "source": [
    "* From outside, a person would (in)put a letter with a question in an unfamiliar foreign language into the room."
   ]
  },
  {
   "cell_type": "markdown",
   "metadata": {},
   "source": [
    "* The person inside of the room has a very big book with answers to all questions of that foreign language."
   ]
  },
  {
   "cell_type": "markdown",
   "metadata": {},
   "source": [
    "* The person inside of the room would lookup the answer from the book and (out)put another letter in the foreign language with the answer out of the room."
   ]
  },
  {
   "cell_type": "markdown",
   "metadata": {},
   "source": [
    "* Now, do people outside of the room can tell if the person inside knows the foreign language?"
   ]
  },
  {
   "cell_type": "markdown",
   "metadata": {},
   "source": [
    "### Analogy"
   ]
  },
  {
   "cell_type": "markdown",
   "metadata": {},
   "source": [
    "* Let's compare this room with a computer."
   ]
  },
  {
   "cell_type": "markdown",
   "metadata": {},
   "source": [
    "| thought experiment | computer |\n",
    "|:------:|:------:|\n",
    "| room | CPU |\n",
    "| person inside of the room | CPU electronics |\n",
    "| people outside of the room | memory |\n",
    "| book in the room | CPU instruction set |\n",
    "| letter coming in | machine language instruction |\n",
    "| letter going out | result of the machine language instruction |\n",
    "| frequency of letter | clock speed |\n",
    "\n"
   ]
  },
  {
   "cell_type": "markdown",
   "metadata": {},
   "source": [
    "## Classes of computer memories"
   ]
  },
  {
   "cell_type": "markdown",
   "metadata": {},
   "source": [
    "| memory | physical location | amount | speed | purpose |\n",
    "|:-----:|:-----:|:-----:|:-----:|:-----:|\n",
    "| registers | CPU | very limited | fastest | operation, addressing, I/O |\n",
    "| cache | In or close to CPU | not much | faster | accelerating information fetching |\n",
    "| main memory | motherboard RAM | GBs nowadays | fast | store code and data |\n",
    "| stack | within RAM | limited | RAM | store function call information |\n",
    "| [heap](https://en.wikipedia.org/wiki/Memory_management#HEAP) | within RAM | less limited | RAM | allocate memory from here |\n",
    "| SSD | SSD | TBs? | [Flash memory](https://en.wikipedia.org/wiki/Flash_memory) speed | preserve code and data  |\n",
    "| HDD | HDD | TBs | Magnetic disk speed | preserve code and data  |\n",
    "| Memory mapped I/O | ??? | limited | ??? | communicate with a device  |\n",
    "\n"
   ]
  },
  {
   "cell_type": "markdown",
   "metadata": {},
   "source": [
    "* Following [figure](https://thenextweb.com/shareables/2011/12/26/this-is-what-a-5mb-hard-drive-looked-like-is-1956-required-a-forklift/) shows an eary [hard disk drive](https://en.wikipedia.org/wiki/IBM_305_RAMAC) of 5 Megabytes in 1950s."
   ]
  },
  {
   "cell_type": "code",
   "execution_count": null,
   "metadata": {},
   "outputs": [],
   "source": [
    "# https://stackoverflow.com/questions/32370281/how-to-include-image-or-picture-in-jupyter-notebook\n",
    "import IPython.display as disp\n",
    "url=\"https://cdn0.tnwcdn.com/wp-content/blogs.dir/1/files/2011/12/Screen-Shot-2011-12-26-at-18.38.18.png\"\n",
    "\n",
    "disp.display(\n",
    "    disp.Markdown(\n",
    "        f'![IBM 5MB HDD 1956]({url})'\n",
    "    )\n",
    ")\n",
    "\n"
   ]
  },
  {
   "cell_type": "markdown",
   "metadata": {},
   "source": [
    "* Among these memories, cache is usually not accessable from the program."
   ]
  },
  {
   "cell_type": "markdown",
   "metadata": {},
   "source": [
    "* Disk drives, programs can access through file systems."
   ]
  },
  {
   "cell_type": "markdown",
   "metadata": {},
   "source": [
    "* Main memory (+ stack and heap) is *addressable*; thus we can use *pointer*s to access."
   ]
  },
  {
   "cell_type": "markdown",
   "metadata": {},
   "source": [
    "* How to access registers depends on the compilers."
   ]
  },
  {
   "cell_type": "markdown",
   "metadata": {},
   "source": [
    "* Memory mapped IO is addressable; thus we can use pointers to access.  However, if output, the computer would send what we write here to a device, possibly an external one."
   ]
  },
  {
   "cell_type": "markdown",
   "metadata": {},
   "source": [
    "## Working with bits"
   ]
  },
  {
   "cell_type": "markdown",
   "metadata": {},
   "source": [
    "* To utilize certain features of microcontrollers, often times we need to turn on or off certain bits of certain memory location."
   ]
  },
  {
   "cell_type": "markdown",
   "metadata": {},
   "source": [
    "* The pointer of C/C++ is a suitable tool for this type of task."
   ]
  },
  {
   "cell_type": "markdown",
   "metadata": {},
   "source": [
    "* However, the smallest unit of memory that we can change is a byte; hence we may need to first read the current status of the particular byte, change that one bit, and then write the *bit pattern* to that byte."
   ]
  },
  {
   "cell_type": "markdown",
   "metadata": {},
   "source": [
    "### Revisiting `struct` and `union`"
   ]
  },
  {
   "cell_type": "markdown",
   "metadata": {},
   "source": [
    "* `struct` is a group of data.  An array is also a group of data.  Difference is, to access data in `struct`, we would use *field name*s; for arrays, indices."
   ]
  },
  {
   "cell_type": "markdown",
   "metadata": {},
   "source": [
    "* Also, *field*s of struct may have different types; for arrays, all same types."
   ]
  },
  {
   "cell_type": "markdown",
   "metadata": {},
   "source": [
    "#### `union`: Little endian vs Big endian"
   ]
  },
  {
   "cell_type": "markdown",
   "metadata": {},
   "source": [
    "* Let's see how our computer stores a multi-byte integer."
   ]
  },
  {
   "cell_type": "markdown",
   "metadata": {},
   "source": [
    "* Using `union` we can make a multi-byte integer and an array of characters share the memory."
   ]
  },
  {
   "cell_type": "code",
   "execution_count": null,
   "metadata": {},
   "outputs": [],
   "source": [
    "%%writefile little_or_big.cpp\n",
    "#include <cstdio>\n",
    "#include <cstdint>\n",
    "\n",
    "\n",
    "union little_big_tag{\n",
    "    uint32_t i;\n",
    "    char c[4];\n",
    "};\n",
    "\n",
    "\n",
    "int32_t main(const int32_t argn, const char * argv[]){\n",
    "    \n",
    "    union little_big_tag s;\n",
    "\n",
    "    // See if both int and char[] member share the same memory\n",
    "    printf(\"&(s.i) = %08lx\\n\", (uint64_t) (&(s.i)));\n",
    "    printf(\"&(s.c) = %08lx\\n\", (uint64_t) (&(s.c)));\n",
    "    \n",
    "    printf(\n",
    "        \"They share the same memory if non-zero: %x\\n\", \n",
    "        (\n",
    "            (uint64_t) (&(s.i)) == (uint64_t) (&(s.c))\n",
    "        )\n",
    "    );\n",
    "\n",
    "    // assign an integer to the integer member of s\n",
    "    s.i = 0x01020304;\n",
    "    // reading the memory as one 32 bit integer\n",
    "    printf(\"s.i = %08x\\n\", s.i);\n",
    "    // as four 8 bit characters\n",
    "    printf(\"s.c = %02x %02x %02x %02x\\n\", s.c[0], s.c[1], s.c[2], s.c[3]);\n",
    "\n",
    "    // check address of each member of char[4]\n",
    "    // which part of integer is in which part of array?\n",
    "    int32_t i = 0;\n",
    "    for (i = 0; 4 > i; i++){\n",
    "        printf(\"&(s.c[%d]) = %08lx\\n\", i, (uint64_t) (&(s.c[i])));\n",
    "    }\n",
    "}\n",
    "\n"
   ]
  },
  {
   "cell_type": "code",
   "execution_count": null,
   "metadata": {},
   "outputs": [],
   "source": [
    "%%bash\n",
    "# Detect OS type because OSX may need different options\n",
    "# https://stackoverflow.com/questions/3466166/how-to-check-if-running-in-cygwin-mac-or-linux/18790824\n",
    "unameOut=\"$(uname -s)\"\n",
    "case \"${unameOut}\" in\n",
    "    Linux*)     machine=Linux;;\n",
    "    Darwin*)    machine=Mac;;\n",
    "    CYGWIN*)    machine=Cygwin;;\n",
    "    MINGW*)     machine=MinGw;;\n",
    "    *)          machine=\"UNKNOWN:${unameOut}\"\n",
    "esac\n",
    "\n",
    "\n",
    "if [ $machine == \"Linux\" ]; then\n",
    "    g++ -Wall -g little_or_big.cpp -o ./little_or_big -Wa,-adhln=little_or_big.s\n",
    "elif [ \"Mac\" == $machine ]; then\n",
    "    # https://stackoverflow.com/questions/10990018/\n",
    "    clang++ -S -mllvm --x86-asm-syntax=intel little_or_big.cpp\n",
    "    clang++ -Wall -g little_or_big.cpp -o little_or_big\n",
    "else\n",
    "    g++ -Wall -g little_or_big.cpp -o ./little_or_big.s -S\n",
    "    g++ -Wall -g little_or_big.cpp -o ./little_or_big\n",
    "fi\n",
    "\n"
   ]
  },
  {
   "cell_type": "code",
   "execution_count": null,
   "metadata": {},
   "outputs": [],
   "source": [
    "# https://stackoverflow.com/questions/4760215/running-shell-command-from-python-and-capturing-the-output\n",
    "# https://stackoverflow.com/questions/35160256/how-do-i-output-lists-as-a-table-in-jupyter-notebook\n",
    "import subprocess\n",
    "import IPython.display as disp\n",
    "\n",
    "result = subprocess.run(['./little_or_big'], stdout=subprocess.PIPE)\n",
    "\n",
    "print(result.stdout.decode())\n",
    "\n"
   ]
  },
  {
   "cell_type": "code",
   "execution_count": null,
   "metadata": {},
   "outputs": [],
   "source": [
    "%%bash\n",
    "\n",
    "rm little_or_big.cpp little_or_big\n",
    "\n"
   ]
  },
  {
   "cell_type": "markdown",
   "metadata": {},
   "source": [
    "#### 16bit color using `struct` and `union`"
   ]
  },
  {
   "cell_type": "markdown",
   "metadata": {},
   "source": [
    "* For each field of struct, we may specify its length in **bits**."
   ]
  },
  {
   "cell_type": "markdown",
   "metadata": {},
   "source": [
    "* Followinging example shows a 16bit color information."
   ]
  },
  {
   "cell_type": "markdown",
   "metadata": {},
   "source": [
    "``` C++\n",
    "#include <cstdint>\n",
    "\n",
    "// Josh Kunz, Bit-field Packing in GCC and Clang, https://jkz.wtf/bit-field-packing-in-gcc-and-clang\n",
    "struct high_color_tag{\n",
    "    uint16_t red:5;\n",
    "    uint16_t green:6;\n",
    "    uint16_t blue:5;\n",
    "};\n",
    "```\n",
    "\n"
   ]
  },
  {
   "cell_type": "markdown",
   "metadata": {},
   "source": [
    "* We can see that the sum of bits is `5 + 6 + 5 = 16`; two bytes."
   ]
  },
  {
   "cell_type": "markdown",
   "metadata": {},
   "source": [
    "* `struct` would allocate `red`, `green`, and `blue` values as follows."
   ]
  },
  {
   "cell_type": "code",
   "execution_count": null,
   "metadata": {
    "scrolled": true
   },
   "outputs": [],
   "source": [
    "# https://stackoverflow.com/questions/35160256/how-do-i-output-lists-as-a-table-in-jupyter-notebook\n",
    "# http://nbviewer.jupyter.org/github/ipython/ipython/blob/4.0.x/examples/IPython%20Kernel/Rich%20Output.ipynb\n",
    "\n",
    "import IPython.display as disp\n",
    "\n",
    "# number of bits\n",
    "n = 16\n",
    "nr = 5\n",
    "ng = 6\n",
    "nb = 5\n",
    "\n",
    "disp.display(\n",
    "    disp.Markdown(\n",
    "        '\\n'.join(\n",
    "            [\n",
    "                ' | '.join(str(k) for k in range(n-1, 0-1, -1)),\n",
    "                '|'.join(':---:' for k in range(1, n+1)),\n",
    "                ' | '.join(['`b`']*nb + ['`g`']*ng + ['`r`']*nr),\n",
    "            ],\n",
    "        )\n",
    "    )\n",
    ")\n",
    "\n"
   ]
  },
  {
   "cell_type": "markdown",
   "metadata": {},
   "source": [
    "* Following C++ code would show an example."
   ]
  },
  {
   "cell_type": "code",
   "execution_count": null,
   "metadata": {},
   "outputs": [],
   "source": [
    "%%writefile bit_field_struct.cpp\n",
    "\n",
    "#include <bitset>\n",
    "#include <cstdint>\n",
    "#include <cstdlib>\n",
    "#include <iomanip>\n",
    "#include <iostream>\n",
    "\n",
    "\n",
    "// Josh Kunz, Bit-field Packing in GCC and Clang, https://jkz.wtf/bit-field-packing-in-gcc-and-clang\n",
    "struct high_color_tag{\n",
    "    uint16_t red:5;\n",
    "    uint16_t green:6;\n",
    "    uint16_t blue:5;\n",
    "};\n",
    "\n",
    "\n",
    "union high_color_union_tag{\n",
    "    struct high_color_tag rgb_struct;\n",
    "    uint16_t hex;\n",
    "};\n",
    "\n",
    "\n",
    "int32_t main(const int32_t argn, const char * argv[]){\n",
    "    union high_color_union_tag rgb_union;\n",
    "    const int32_t n = 10;\n",
    "\n",
    "    int32_t r = 0, g = 0, b = 0, i = 0;\n",
    "    \n",
    "    std::cout << \"| `r` | `g` | `b` | `hex` |\" << '\\n';\n",
    "    std::cout << \"|:---:|:---:|:---:|:-----:|\" << '\\n';\n",
    "\n",
    "    for(i = 0; n > i; ++i){\n",
    "        r = rand() % (1 << 5);\n",
    "        g = rand() % (1 << 6);\n",
    "        b = rand() % (1 << 5);\n",
    "\n",
    "        rgb_union.rgb_struct.red = r;\n",
    "        rgb_union.rgb_struct.green = g;\n",
    "        rgb_union.rgb_struct.blue = b;\n",
    "\n",
    "        // https://stackoverflow.com/questions/7349689\n",
    "        std::bitset<5> b_r(r);\n",
    "        std::bitset<6> b_g(g);\n",
    "        std::bitset<6> b_b(b);\n",
    "        std::bitset<16> b_hex(rgb_union.hex);\n",
    "\n",
    "        std::cout << \"| \" << std::hex << std::setw(6) << b_r\n",
    "                    << \" | \" << std::setw(6) << b_g\n",
    "                    << \" | \" << std::setw(6) << b_b\n",
    "                    << \" | \" << std::setw(16) << b_hex\n",
    "                    << \" |\\n\";\n",
    "    }\n",
    "\n",
    "    // std::cout << \"sizeof(rgb_union.rgb_struct)\" << sizeof(rgb_union.rgb_struct) << '\\n';\n",
    "\n",
    "}\n",
    "\n"
   ]
  },
  {
   "cell_type": "code",
   "execution_count": null,
   "metadata": {},
   "outputs": [],
   "source": [
    "%%bash\n",
    "# Detect OS type because OSX may need different options\n",
    "# https://stackoverflow.com/questions/3466166/how-to-check-if-running-in-cygwin-mac-or-linux/18790824\n",
    "unameOut=\"$(uname -s)\"\n",
    "case \"${unameOut}\" in\n",
    "    Linux*)     machine=Linux;;\n",
    "    Darwin*)    machine=Mac;;\n",
    "    CYGWIN*)    machine=Cygwin;;\n",
    "    MINGW*)     machine=MinGw;;\n",
    "    *)          machine=\"UNKNOWN:${unameOut}\"\n",
    "esac\n",
    "\n",
    "\n",
    "if [ $machine == \"Linux\" ]; then\n",
    "    g++ -Wall -g bit_field_struct.cpp -o ./bit_field_struct -Wa,-adhln=bit_field_struct.s\n",
    "elif [ \"Mac\" == $machine ]; then\n",
    "    # https://stackoverflow.com/questions/10990018/\n",
    "    clang++ -S -mllvm --x86-asm-syntax=intel bit_field_struct.cpp\n",
    "    clang++ -Wall -g bit_field_struct.cpp -o bit_field_struct\n",
    "else\n",
    "    g++ -Wall -g bit_field_struct.cpp -o ./bit_field_struct.s -S\n",
    "    g++ -Wall -g bit_field_struct.cpp -o ./bit_field_struct\n",
    "fi\n",
    "\n"
   ]
  },
  {
   "cell_type": "code",
   "execution_count": null,
   "metadata": {},
   "outputs": [],
   "source": [
    "# https://stackoverflow.com/questions/4760215/running-shell-command-from-python-and-capturing-the-output\n",
    "# https://stackoverflow.com/questions/35160256/how-do-i-output-lists-as-a-table-in-jupyter-notebook\n",
    "import subprocess\n",
    "import IPython.display as disp\n",
    "\n",
    "result = subprocess.run(['./bit_field_struct'], stdout=subprocess.PIPE)\n",
    "\n",
    "disp.display(disp.Markdown(result.stdout.decode()))\n",
    "\n"
   ]
  },
  {
   "cell_type": "code",
   "execution_count": null,
   "metadata": {},
   "outputs": [],
   "source": [
    "%%bash\n",
    "\n",
    "rm bit_field_struct.cpp bit_field_struct\n",
    "\n"
   ]
  },
  {
   "cell_type": "code",
   "execution_count": null,
   "metadata": {},
   "outputs": [],
   "source": []
  }
 ],
 "metadata": {
  "kernelspec": {
   "display_name": "Python 3",
   "language": "python",
   "name": "python3"
  },
  "language_info": {
   "codemirror_mode": {
    "name": "ipython",
    "version": 3
   },
   "file_extension": ".py",
   "mimetype": "text/x-python",
   "name": "python",
   "nbconvert_exporter": "python",
   "pygments_lexer": "ipython3",
   "version": "3.6.5"
  }
 },
 "nbformat": 4,
 "nbformat_minor": 2
}
