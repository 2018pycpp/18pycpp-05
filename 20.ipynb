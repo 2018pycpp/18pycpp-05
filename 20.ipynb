{
 "cells": [
  {
   "cell_type": "markdown",
   "metadata": {},
   "source": [
    "# Working with bits"
   ]
  },
  {
   "cell_type": "markdown",
   "metadata": {},
   "source": [
    "* To utilize certain features of microcontrollers, often times we need to turn on or off certain bits of certain memory location."
   ]
  },
  {
   "cell_type": "markdown",
   "metadata": {},
   "source": [
    "* The pointer of C/C++ is a suitable tool for this type of task."
   ]
  },
  {
   "cell_type": "markdown",
   "metadata": {},
   "source": [
    "* However, the smallest unit of memory that we can change is a byte; hence we may need to first read the current status of the particular byte, change that one bit, and then write the *bit pattern* to that byte."
   ]
  },
  {
   "cell_type": "markdown",
   "metadata": {},
   "source": [
    "## Revisiting `struct` and `union`"
   ]
  },
  {
   "cell_type": "markdown",
   "metadata": {},
   "source": [
    "* `struct` is a group of data.  An array is also a group of data.  Difference is, to access data in `struct`, we would use *field name*s; for arrays, indices."
   ]
  },
  {
   "cell_type": "markdown",
   "metadata": {},
   "source": [
    "* Also, *field*s of struct may have different types; for arrays, all same types."
   ]
  },
  {
   "cell_type": "markdown",
   "metadata": {},
   "source": [
    "* For each field of struct, we may specify its length in **bits**."
   ]
  },
  {
   "cell_type": "markdown",
   "metadata": {},
   "source": [
    "* Followinging example shows a 16bit color information."
   ]
  },
  {
   "cell_type": "markdown",
   "metadata": {},
   "source": [
    "``` C++\n",
    "#include <cstdint>\n",
    "\n",
    "// Josh Kunz, Bit-field Packing in GCC and Clang, https://jkz.wtf/bit-field-packing-in-gcc-and-clang\n",
    "struct high_color_tag{\n",
    "    uint16_t red:5;\n",
    "    uint16_t green:6;\n",
    "    uint16_t blue:5;\n",
    "};\n",
    "```\n",
    "\n"
   ]
  },
  {
   "cell_type": "markdown",
   "metadata": {},
   "source": [
    "* We can see that the sum of bits is `5 + 6 + 5 = 16`; two bytes."
   ]
  },
  {
   "cell_type": "markdown",
   "metadata": {},
   "source": [
    "* `struct` would allocate `red`, `green`, and `blue` values as follows."
   ]
  },
  {
   "cell_type": "code",
   "execution_count": null,
   "metadata": {
    "scrolled": true
   },
   "outputs": [],
   "source": [
    "# https://stackoverflow.com/questions/35160256/how-do-i-output-lists-as-a-table-in-jupyter-notebook\n",
    "# http://nbviewer.jupyter.org/github/ipython/ipython/blob/4.0.x/examples/IPython%20Kernel/Rich%20Output.ipynb\n",
    "\n",
    "import IPython.display as disp\n",
    "\n",
    "# number of bits\n",
    "n = 16\n",
    "nr = 5\n",
    "ng = 6\n",
    "nb = 5\n",
    "\n",
    "disp.display(\n",
    "    disp.Markdown(\n",
    "        '\\n'.join(\n",
    "            [\n",
    "                ' | '.join(str(k) for k in range(n-1, 0-1, -1)),\n",
    "                '|'.join(':---:' for k in range(1, n+1)),\n",
    "                ' | '.join(['`b`']*nb + ['`g`']*ng + ['`r`']*nr),\n",
    "            ],\n",
    "        )\n",
    "    )\n",
    ")\n",
    "\n"
   ]
  },
  {
   "cell_type": "code",
   "execution_count": null,
   "metadata": {},
   "outputs": [],
   "source": []
  }
 ],
 "metadata": {
  "kernelspec": {
   "display_name": "Python 3",
   "language": "python",
   "name": "python3"
  },
  "language_info": {
   "codemirror_mode": {
    "name": "ipython",
    "version": 3
   },
   "file_extension": ".py",
   "mimetype": "text/x-python",
   "name": "python",
   "nbconvert_exporter": "python",
   "pygments_lexer": "ipython3",
   "version": "3.6.5"
  }
 },
 "nbformat": 4,
 "nbformat_minor": 2
}
